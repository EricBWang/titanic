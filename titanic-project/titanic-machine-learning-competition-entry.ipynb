{
 "cells": [
  {
   "cell_type": "markdown",
   "metadata": {},
   "source": [
    "# Titanic: Machine Learning from Disaster Entry"
   ]
  },
  {
   "cell_type": "markdown",
   "metadata": {},
   "source": [
    "This notebook was created for a class competition hosted by UC Berkeley's Data 144: Data Mining instructors. The _Submission #_ corresponds to the submissions I entered in the class competition, not the public competition. In the class competition, my highest submission scored .7751 on my 5th submission, which scored .7583 in the public competition. This placed me in the top 10 teams in the class.\n",
    "\n",
    "Note: This is my initial solo entry before fine-tuning and collaboration. This was later edited by me and my teammates in the class competition to improve this model.\n",
    "\n",
    "\n",
    "- **Submission 1**: logistic regression\n",
    "- **Submission 2**: logistic regression, decision tree, neural network - ended up keeping neural network\n",
    "- **Submission 3, 4, 5**: neural network"
   ]
  },
  {
   "cell_type": "markdown",
   "metadata": {},
   "source": [
    "# Submission 1"
   ]
  },
  {
   "cell_type": "code",
   "execution_count": null,
   "metadata": {},
   "outputs": [],
   "source": [
    "import numpy as np\n",
    "import pandas as pd\n",
    "import re\n",
    "from sklearn.model_selection import train_test_split\n",
    "from sklearn.linear_model import LogisticRegression\n",
    "from sklearn.neural_network import MLPClassifier\n",
    "import warnings\n",
    "warnings.filterwarnings('ignore')"
   ]
  },
  {
   "cell_type": "code",
   "execution_count": null,
   "metadata": {},
   "outputs": [],
   "source": [
    "df_train = pd.read_csv('../input/titanic/train.csv')\n",
    "df_test = pd.read_csv('../input/titanic/test.csv')\n",
    "\n",
    "df_train.head()"
   ]
  },
  {
   "cell_type": "code",
   "execution_count": null,
   "metadata": {},
   "outputs": [],
   "source": [
    "X_train = df_train.drop('Survived', axis=1)\n",
    "Y_train = df_train['Survived']"
   ]
  },
  {
   "cell_type": "code",
   "execution_count": null,
   "metadata": {},
   "outputs": [],
   "source": [
    "X_train, X_test, Y_train, Y_test = train_test_split(X_train, Y_train)\n",
    "X_train_2 = X_train.copy()\n",
    "X_test_2 = X_test.copy()"
   ]
  },
  {
   "cell_type": "markdown",
   "metadata": {},
   "source": [
    "### Only using the numeric columns as is."
   ]
  },
  {
   "cell_type": "code",
   "execution_count": null,
   "metadata": {},
   "outputs": [],
   "source": [
    "basic_X_train = X_train[['Pclass', 'Age', 'SibSp', 'Parch', 'Fare']].fillna(0)\n",
    "model = LogisticRegression()\n",
    "model.fit(basic_X_train, Y_train)\n",
    "training_accuracy = model.score(basic_X_train, Y_train)\n",
    "print(\"Training Accuracy: \", training_accuracy)"
   ]
  },
  {
   "cell_type": "code",
   "execution_count": null,
   "metadata": {},
   "outputs": [],
   "source": [
    "X_test_num = X_test[['Pclass', 'Age', 'SibSp', 'Parch', 'Fare']].fillna(0)\n",
    "\n",
    "training_accuracy = model.score(X_test_num, Y_test)\n",
    "print(\"Training Accuracy: \", training_accuracy)"
   ]
  },
  {
   "cell_type": "code",
   "execution_count": null,
   "metadata": {},
   "outputs": [],
   "source": [
    "X_train['Sex'] = X_train['Sex'].replace('male', 0).replace('female', 1)\n",
    "X_train"
   ]
  },
  {
   "cell_type": "markdown",
   "metadata": {},
   "source": [
    "## Filling NAs"
   ]
  },
  {
   "cell_type": "code",
   "execution_count": null,
   "metadata": {},
   "outputs": [],
   "source": [
    "for column in X_train.columns:\n",
    "    print(column, sum(X_train[column].isna()))"
   ]
  },
  {
   "cell_type": "markdown",
   "metadata": {},
   "source": [
    "### Embarked"
   ]
  },
  {
   "cell_type": "code",
   "execution_count": null,
   "metadata": {},
   "outputs": [],
   "source": [
    "X_train.groupby('Embarked').size()"
   ]
  },
  {
   "cell_type": "code",
   "execution_count": null,
   "metadata": {},
   "outputs": [],
   "source": [
    "# Filled the minimal amount of Embarked NAs with the majority class\n",
    "X_train['Embarked'] = X_train['Embarked'].fillna('S')"
   ]
  },
  {
   "cell_type": "markdown",
   "metadata": {},
   "source": [
    "### Age"
   ]
  },
  {
   "cell_type": "code",
   "execution_count": null,
   "metadata": {},
   "outputs": [],
   "source": [
    "X_train[X_train['Age'].isna()]"
   ]
  },
  {
   "cell_type": "code",
   "execution_count": null,
   "metadata": {},
   "outputs": [],
   "source": [
    "avg_miss_age = round(np.mean(X_train[X_train['Name'].str.contains('Miss.')]['Age']), 2)\n",
    "avg_ms_age = round(np.mean(X_train[X_train['Name'].str.contains('Ms.')]['Age']), 2)\n",
    "avg_mrs_age = round(np.mean(X_train[X_train['Name'].str.contains('Mrs.')]['Age']), 2)\n",
    "avg_mr_age = round(np.mean(X_train[X_train['Name'].str.contains('Mr.')]['Age']), 2)\n",
    "avg_dr_age = round(np.mean(X_train[X_train['Name'].str.contains('Dr.')]['Age']), 2)\n",
    "avg_master_age = round(np.mean(X_train[X_train['Name'].str.contains('Master.')]['Age']), 2)"
   ]
  },
  {
   "cell_type": "code",
   "execution_count": null,
   "metadata": {},
   "outputs": [],
   "source": [
    "X_train_age = X_train.mask(X_train['Name'].str.contains('Miss.') & X_train['Age'].isna(), avg_miss_age)\n",
    "X_train_age = X_train_age.mask(X_train['Name'].str.contains('Ms.') & X_train['Age'].isna(), avg_ms_age)\n",
    "X_train_age = X_train_age.mask(X_train['Name'].str.contains('Mrs.') & X_train['Age'].isna(), avg_mrs_age)\n",
    "X_train_age = X_train_age.mask(X_train['Name'].str.contains('Mr.') & X_train['Age'].isna(), avg_mr_age)\n",
    "X_train_age = X_train_age.mask(X_train['Name'].str.contains('Dr.') & X_train['Age'].isna(), avg_dr_age)\n",
    "X_train_age = X_train_age.mask(X_train['Name'].str.contains('Master.') & X_train['Age'].isna(), avg_dr_age)\n",
    "X_train['Age'] = X_train_age['Age']"
   ]
  },
  {
   "cell_type": "markdown",
   "metadata": {},
   "source": [
    "______________________________________________________________________________________________________________"
   ]
  },
  {
   "cell_type": "markdown",
   "metadata": {},
   "source": [
    "## Train and test accuracies for train.csv"
   ]
  },
  {
   "cell_type": "markdown",
   "metadata": {},
   "source": [
    "Removing `Cabin` for now, but removing `Name` and `Ticket` permanently."
   ]
  },
  {
   "cell_type": "code",
   "execution_count": null,
   "metadata": {},
   "outputs": [],
   "source": [
    "X_train = X_train.drop(['Name', 'Cabin', 'Ticket'], axis=1)\n",
    "X_train = pd.get_dummies(X_train)\n",
    "X_train.head()"
   ]
  },
  {
   "cell_type": "code",
   "execution_count": null,
   "metadata": {},
   "outputs": [],
   "source": [
    "model = LogisticRegression()\n",
    "model.fit(X_train, Y_train)\n",
    "training_accuracy = model.score(X_train, Y_train)\n",
    "print(\"Training Accuracy: \", training_accuracy)"
   ]
  },
  {
   "cell_type": "code",
   "execution_count": null,
   "metadata": {},
   "outputs": [],
   "source": [
    "X_test_copy = X_test.copy()\n",
    "X_test_copy['Sex'] = X_test_copy['Sex'].replace('male', 0).replace('female', 1)\n",
    "X_test_copy['Embarked'] = X_test_copy['Embarked'].fillna('S')\n",
    "\n",
    "avg_miss_age = round(np.mean(X_test_copy[X_test_copy['Name'].str.contains('Miss.')]['Age']), 2)\n",
    "avg_ms_age = round(np.mean(X_test_copy[X_test_copy['Name'].str.contains('Ms.')]['Age']), 2)\n",
    "avg_mrs_age = round(np.mean(X_test_copy[X_test_copy['Name'].str.contains('Mrs.')]['Age']), 2)\n",
    "avg_mr_age = round(np.mean(X_test_copy[X_test_copy['Name'].str.contains('Mr.')]['Age']), 2)\n",
    "avg_dr_age = round(np.mean(X_test_copy[X_test_copy['Name'].str.contains('Dr.')]['Age']), 2)\n",
    "avg_master_age = round(np.mean(X_test_copy[X_test_copy['Name'].str.contains('Master.')]['Age']), 2)\n",
    "\n",
    "X_test_age = X_test.mask(X_test['Name'].str.contains('Miss.') & X_test['Age'].isna(), avg_miss_age)\n",
    "X_test_age = X_test_age.mask(X_test['Name'].str.contains('Ms.') & X_test['Age'].isna(), avg_ms_age)\n",
    "X_test_age = X_test_age.mask(X_test['Name'].str.contains('Mrs.') & X_test['Age'].isna(), avg_mrs_age)\n",
    "X_test_age = X_test_age.mask(X_test['Name'].str.contains('Mr.') & X_test['Age'].isna(), avg_mr_age)\n",
    "X_test_age = X_test_age.mask(X_test['Name'].str.contains('Dr.') & X_test['Age'].isna(), avg_dr_age)\n",
    "X_test_age = X_test_age.mask(X_test['Name'].str.contains('Master.') & X_test['Age'].isna(), avg_dr_age)\n",
    "X_test_copy['Age'] = X_test_age['Age']\n",
    "\n",
    "X_test_copy = X_test_copy.drop(['Name', 'Cabin', 'Ticket'], axis=1).fillna(0)\n",
    "X_test_copy = pd.get_dummies(X_test_copy)"
   ]
  },
  {
   "cell_type": "code",
   "execution_count": null,
   "metadata": {},
   "outputs": [],
   "source": [
    "test_accuracy = model.score(X_test_copy, Y_test)\n",
    "print(\"Test Accuracy: \", test_accuracy)"
   ]
  },
  {
   "cell_type": "markdown",
   "metadata": {},
   "source": [
    "## test.csv"
   ]
  },
  {
   "cell_type": "code",
   "execution_count": null,
   "metadata": {},
   "outputs": [],
   "source": [
    "df_test_copy = df_test.copy()\n",
    "df_test_copy['Sex'] = df_test_copy['Sex'].replace('male', 0).replace('female', 1)\n",
    "df_test_copy['Embarked'] = df_test_copy['Embarked'].fillna('S')\n",
    "\n",
    "avg_miss_age = round(np.mean(df_test_copy[df_test_copy['Name'].str.contains('Miss.')]['Age']), 2)\n",
    "avg_ms_age = round(np.mean(df_test_copy[df_test_copy['Name'].str.contains('Ms.')]['Age']), 2)\n",
    "avg_mrs_age = round(np.mean(df_test_copy[df_test_copy['Name'].str.contains('Mrs.')]['Age']), 2)\n",
    "avg_mr_age = round(np.mean(df_test_copy[df_test_copy['Name'].str.contains('Mr.')]['Age']), 2)\n",
    "avg_dr_age = round(np.mean(df_test_copy[df_test_copy['Name'].str.contains('Dr.')]['Age']), 2)\n",
    "avg_master_age = round(np.mean(df_test_copy[df_test_copy['Name'].str.contains('Master.')]['Age']), 2)\n",
    "\n",
    "df_test_age = df_test.mask(df_test['Name'].str.contains('Miss.') & df_test['Age'].isna(), avg_miss_age)\n",
    "df_test_age = df_test_age.mask(df_test['Name'].str.contains('Ms.') & df_test['Age'].isna(), avg_ms_age)\n",
    "df_test_age = df_test_age.mask(df_test['Name'].str.contains('Mrs.') & df_test['Age'].isna(), avg_mrs_age)\n",
    "df_test_age = df_test_age.mask(df_test['Name'].str.contains('Mr.') & df_test['Age'].isna(), avg_mr_age)\n",
    "df_test_age = df_test_age.mask(df_test['Name'].str.contains('Dr.') & df_test['Age'].isna(), avg_dr_age)\n",
    "df_test_age = df_test_age.mask(df_test['Name'].str.contains('Master.') & df_test['Age'].isna(), avg_dr_age)\n",
    "df_test_copy['Age'] = df_test_age['Age']\n",
    "\n",
    "df_test_copy = df_test_copy.drop(['Name', 'Cabin', 'Ticket'], axis=1)\n",
    "df_test_copy = pd.get_dummies(df_test_copy).fillna(0)"
   ]
  },
  {
   "cell_type": "code",
   "execution_count": null,
   "metadata": {},
   "outputs": [],
   "source": [
    "test_predictions = model.predict(df_test_copy)\n",
    "test_predictions"
   ]
  },
  {
   "cell_type": "code",
   "execution_count": null,
   "metadata": {},
   "outputs": [],
   "source": [
    "submission = pd.DataFrame(index=df_test.PassengerId)\n",
    "submission['Survived'] = model.predict(df_test_copy)\n",
    "submission"
   ]
  },
  {
   "cell_type": "code",
   "execution_count": null,
   "metadata": {},
   "outputs": [],
   "source": [
    "# submission.reset_index().to_csv('submission.csv', index=False)"
   ]
  },
  {
   "cell_type": "markdown",
   "metadata": {},
   "source": [
    "______________________________________________________________________________________________________________"
   ]
  },
  {
   "cell_type": "markdown",
   "metadata": {},
   "source": [
    "# Submission 2"
   ]
  },
  {
   "cell_type": "markdown",
   "metadata": {},
   "source": [
    "## Adding `Cabin` and filled NAs "
   ]
  },
  {
   "cell_type": "code",
   "execution_count": null,
   "metadata": {},
   "outputs": [],
   "source": [
    "X_train = X_train_2\n",
    "X_test = X_test_2\n",
    "\n",
    "X_train_copy = X_train.copy()\n",
    "X_train_copy['Sex'] = X_train_copy['Sex'].replace('male', 0).replace('female', 1)\n",
    "X_train_copy['Embarked'] = X_train_copy['Embarked'].fillna('S')\n",
    "\n",
    "avg_miss_age = round(np.mean(X_train_copy[X_train_copy['Name'].str.contains('Miss.')]['Age']), 2)\n",
    "avg_ms_age = round(np.mean(X_train_copy[X_train_copy['Name'].str.contains('Ms.')]['Age']), 2)\n",
    "avg_mrs_age = round(np.mean(X_train_copy[X_train_copy['Name'].str.contains('Mrs.')]['Age']), 2)\n",
    "avg_mr_age = round(np.mean(X_train_copy[X_train_copy['Name'].str.contains('Mr.')]['Age']), 2)\n",
    "avg_dr_age = round(np.mean(X_train_copy[X_train_copy['Name'].str.contains('Dr.')]['Age']), 2)\n",
    "avg_master_age = round(np.mean(X_train_copy[X_train_copy['Name'].str.contains('Master.')]['Age']), 2)\n",
    "\n",
    "X_train_age = X_train.mask(X_train['Name'].str.contains('Miss.') & X_train['Age'].isna(), avg_miss_age)\n",
    "X_train_age = X_train_age.mask(X_train['Name'].str.contains('Ms.') & X_train['Age'].isna(), avg_ms_age)\n",
    "X_train_age = X_train_age.mask(X_train['Name'].str.contains('Mrs.') & X_train['Age'].isna(), avg_mrs_age)\n",
    "X_train_age = X_train_age.mask(X_train['Name'].str.contains('Mr.') & X_train['Age'].isna(), avg_mr_age)\n",
    "X_train_age = X_train_age.mask(X_train['Name'].str.contains('Dr.') & X_train['Age'].isna(), avg_dr_age)\n",
    "X_train_age = X_train_age.mask(X_train['Name'].str.contains('Master.') & X_train['Age'].isna(), avg_dr_age)\n",
    "X_train_copy['Age'] = X_train_age['Age']\n",
    "\n",
    "X_train_copy = X_train_copy.drop(['Name', 'Cabin', 'Ticket'], axis=1)\n",
    "X_train_copy = pd.get_dummies(X_train_copy)\n",
    "\n",
    "X_train_cabin = X_train.mask((X_train['Pclass']==1) & X_train['Cabin'].isna(), 'C')\n",
    "X_train_cabin = X_train_cabin.mask((X_train_cabin['Pclass']==3) & X_train_cabin['Cabin'].isna(), 'G')\n",
    "X_train_cabin = X_train_cabin.mask((X_train_cabin['Pclass']==2) & X_train_cabin['Cabin'].isna(), 'F')\n",
    "X_train_cabin = X_train_cabin.mask(X_train_cabin['Cabin'].str.contains('T'), 'A')\n",
    "cabin = [x[0] for x in X_train_cabin['Cabin']]\n",
    "X_train_copy['Cabin'] = cabin\n",
    "X_train_copy = pd.get_dummies(X_train_copy)"
   ]
  },
  {
   "cell_type": "code",
   "execution_count": null,
   "metadata": {},
   "outputs": [],
   "source": [
    "model = LogisticRegression()\n",
    "model.fit(X_train_copy, Y_train)\n",
    "training_accuracy = model.score(X_train_copy, Y_train)\n",
    "\n",
    "train_accuracy = model.score(X_train_copy, Y_train)\n",
    "print(\"Train Accuracy: \", train_accuracy)"
   ]
  },
  {
   "cell_type": "code",
   "execution_count": null,
   "metadata": {},
   "outputs": [],
   "source": [
    "X_test_copy = X_test.copy()\n",
    "X_test_copy['Sex'] = X_test_copy['Sex'].replace('male', 0).replace('female', 1)\n",
    "X_test_copy['Embarked'] = X_test_copy['Embarked'].fillna('S')\n",
    "\n",
    "avg_miss_age = round(np.mean(X_test_copy[X_test_copy['Name'].str.contains('Miss.')]['Age']), 2)\n",
    "avg_ms_age = round(np.mean(X_test_copy[X_test_copy['Name'].str.contains('Ms.')]['Age']), 2)\n",
    "avg_mrs_age = round(np.mean(X_test_copy[X_test_copy['Name'].str.contains('Mrs.')]['Age']), 2)\n",
    "avg_mr_age = round(np.mean(X_test_copy[X_test_copy['Name'].str.contains('Mr.')]['Age']), 2)\n",
    "avg_dr_age = round(np.mean(X_test_copy[X_test_copy['Name'].str.contains('Dr.')]['Age']), 2)\n",
    "avg_master_age = round(np.mean(X_test_copy[X_test_copy['Name'].str.contains('Master.')]['Age']), 2)\n",
    "\n",
    "X_test_age = X_test.mask(X_test['Name'].str.contains('Miss.') & X_test['Age'].isna(), avg_miss_age)\n",
    "X_test_age = X_test_age.mask(X_test['Name'].str.contains('Ms.') & X_test['Age'].isna(), avg_ms_age)\n",
    "X_test_age = X_test_age.mask(X_test['Name'].str.contains('Mrs.') & X_test['Age'].isna(), avg_mrs_age)\n",
    "X_test_age = X_test_age.mask(X_test['Name'].str.contains('Mr.') & X_test['Age'].isna(), avg_mr_age)\n",
    "X_test_age = X_test_age.mask(X_test['Name'].str.contains('Dr.') & X_test['Age'].isna(), avg_dr_age)\n",
    "X_test_age = X_test_age.mask(X_test['Name'].str.contains('Master.') & X_test['Age'].isna(), avg_dr_age)\n",
    "X_test_copy['Age'] = X_test_age['Age']\n",
    "\n",
    "X_test_copy = X_test_copy.drop(['Name', 'Cabin', 'Ticket'], axis=1)\n",
    "X_test_copy = pd.get_dummies(X_test_copy)\n",
    "\n",
    "X_test_cabin = X_test.mask((X_test['Pclass']==1) & X_test['Cabin'].isna(), 'C')\n",
    "X_test_cabin = X_test_cabin.mask((X_test_cabin['Pclass']==3) & X_test_cabin['Cabin'].isna(), 'G')\n",
    "X_test_cabin = X_test_cabin.mask((X_test_cabin['Pclass']==2) & X_test_cabin['Cabin'].isna(), 'F')\n",
    "X_test_cabin = X_test_cabin.mask(X_test_cabin['Cabin'].str.contains('T'), 'A')\n",
    "cabin = [x[0] for x in X_test_cabin['Cabin']]\n",
    "X_test_copy['Cabin'] = cabin\n",
    "X_test_copy = pd.get_dummies(X_test_copy)"
   ]
  },
  {
   "cell_type": "code",
   "execution_count": null,
   "metadata": {},
   "outputs": [],
   "source": [
    "test_accuracy = model.score(X_test_copy, Y_test)\n",
    "print(\"Test Accuracy: \", test_accuracy)"
   ]
  },
  {
   "cell_type": "markdown",
   "metadata": {},
   "source": [
    "## Decision Tree"
   ]
  },
  {
   "cell_type": "code",
   "execution_count": null,
   "metadata": {},
   "outputs": [],
   "source": [
    "from sklearn.tree import DecisionTreeClassifier\n",
    "from sklearn.metrics import accuracy_score\n",
    "\n",
    "X_train_copy = X_train.copy()\n",
    "X_train_copy['Sex'] = X_train_copy['Sex'].replace('male', 0).replace('female', 1)\n",
    "X_train_copy['Embarked'] = X_train_copy['Embarked'].fillna('S')\n",
    "\n",
    "avg_miss_age = round(np.mean(X_train_copy[X_train_copy['Name'].str.contains('Miss.')]['Age']), 2)\n",
    "avg_ms_age = round(np.mean(X_train_copy[X_train_copy['Name'].str.contains('Ms.')]['Age']), 2)\n",
    "avg_mrs_age = round(np.mean(X_train_copy[X_train_copy['Name'].str.contains('Mrs.')]['Age']), 2)\n",
    "avg_mr_age = round(np.mean(X_train_copy[X_train_copy['Name'].str.contains('Mr.')]['Age']), 2)\n",
    "avg_dr_age = round(np.mean(X_train_copy[X_train_copy['Name'].str.contains('Dr.')]['Age']), 2)\n",
    "avg_master_age = round(np.mean(X_train_copy[X_train_copy['Name'].str.contains('Master.')]['Age']), 2)\n",
    "\n",
    "X_train_age = X_train.mask(X_train['Name'].str.contains('Miss.') & X_train['Age'].isna(), avg_miss_age)\n",
    "X_train_age = X_train_age.mask(X_train['Name'].str.contains('Ms.') & X_train['Age'].isna(), avg_ms_age)\n",
    "X_train_age = X_train_age.mask(X_train['Name'].str.contains('Mrs.') & X_train['Age'].isna(), avg_mrs_age)\n",
    "X_train_age = X_train_age.mask(X_train['Name'].str.contains('Mr.') & X_train['Age'].isna(), avg_mr_age)\n",
    "X_train_age = X_train_age.mask(X_train['Name'].str.contains('Dr.') & X_train['Age'].isna(), avg_dr_age)\n",
    "X_train_age = X_train_age.mask(X_train['Name'].str.contains('Master.') & X_train['Age'].isna(), avg_dr_age)\n",
    "X_train_copy['Age'] = X_train_age['Age']\n",
    "\n",
    "X_train_copy = X_train_copy.drop(['Name', 'Cabin', 'Ticket'], axis=1)\n",
    "X_train_copy = pd.get_dummies(X_train_copy)\n",
    "\n",
    "X_train_cabin = X_train.mask((X_train['Pclass']==1) & X_train['Cabin'].isna(), 'C')\n",
    "X_train_cabin = X_train_cabin.mask((X_train_cabin['Pclass']==3) & X_train_cabin['Cabin'].isna(), 'G')\n",
    "X_train_cabin = X_train_cabin.mask((X_train_cabin['Pclass']==2) & X_train_cabin['Cabin'].isna(), 'F')\n",
    "X_train_cabin = X_train_cabin.mask(X_train_cabin['Cabin'].str.contains('T'), 'A')\n",
    "cabin = [x[0] for x in X_train_cabin['Cabin']]\n",
    "X_train_copy['Cabin'] = cabin\n",
    "X_train_copy = pd.get_dummies(X_train_copy)\n",
    "\n",
    "clf = DecisionTreeClassifier(max_depth=3)\n",
    "clf = clf.fit(X_train_copy, Y_train)\n",
    "Y_pred = clf.predict(X_train_copy)\n",
    "print(accuracy_score(Y_train, Y_pred))"
   ]
  },
  {
   "cell_type": "code",
   "execution_count": null,
   "metadata": {},
   "outputs": [],
   "source": [
    "X_test_copy = X_test.copy()\n",
    "X_test_copy['Sex'] = X_test_copy['Sex'].replace('male', 0).replace('female', 1)\n",
    "X_test_copy['Embarked'] = X_test_copy['Embarked'].fillna('S')\n",
    "\n",
    "avg_miss_age = round(np.mean(X_test_copy[X_test_copy['Name'].str.contains('Miss.')]['Age']), 2)\n",
    "avg_ms_age = round(np.mean(X_test_copy[X_test_copy['Name'].str.contains('Ms.')]['Age']), 2)\n",
    "avg_mrs_age = round(np.mean(X_test_copy[X_test_copy['Name'].str.contains('Mrs.')]['Age']), 2)\n",
    "avg_mr_age = round(np.mean(X_test_copy[X_test_copy['Name'].str.contains('Mr.')]['Age']), 2)\n",
    "avg_dr_age = round(np.mean(X_test_copy[X_test_copy['Name'].str.contains('Dr.')]['Age']), 2)\n",
    "avg_master_age = round(np.mean(X_test_copy[X_test_copy['Name'].str.contains('Master.')]['Age']), 2)\n",
    "\n",
    "X_test_age = X_test.mask(X_test['Name'].str.contains('Miss.') & X_test['Age'].isna(), avg_miss_age)\n",
    "X_test_age = X_test_age.mask(X_test['Name'].str.contains('Ms.') & X_test['Age'].isna(), avg_ms_age)\n",
    "X_test_age = X_test_age.mask(X_test['Name'].str.contains('Mrs.') & X_test['Age'].isna(), avg_mrs_age)\n",
    "X_test_age = X_test_age.mask(X_test['Name'].str.contains('Mr.') & X_test['Age'].isna(), avg_mr_age)\n",
    "X_test_age = X_test_age.mask(X_test['Name'].str.contains('Dr.') & X_test['Age'].isna(), avg_dr_age)\n",
    "X_test_age = X_test_age.mask(X_test['Name'].str.contains('Master.') & X_test['Age'].isna(), avg_dr_age)\n",
    "X_test_copy['Age'] = X_test_age['Age']\n",
    "\n",
    "X_test_copy = X_test_copy.drop(['Name', 'Cabin', 'Ticket'], axis=1)\n",
    "X_test_copy = pd.get_dummies(X_test_copy)\n",
    "\n",
    "X_test_cabin = X_test.mask((X_test['Pclass']==1) & X_test['Cabin'].isna(), 'C')\n",
    "X_test_cabin = X_test_cabin.mask((X_test_cabin['Pclass']==3) & X_test_cabin['Cabin'].isna(), 'G')\n",
    "X_test_cabin = X_test_cabin.mask((X_test_cabin['Pclass']==2) & X_test_cabin['Cabin'].isna(), 'F')\n",
    "X_test_cabin = X_test_cabin.mask(X_test_cabin['Cabin'].str.contains('T'), 'A')\n",
    "cabin = [x[0] for x in X_test_cabin['Cabin']]\n",
    "X_test_copy['Cabin'] = cabin\n",
    "X_test_copy = pd.get_dummies(X_test_copy)\n",
    "\n",
    "Y_pred = clf.predict(X_test_copy)\n",
    "print(accuracy_score(Y_test, Y_pred))"
   ]
  },
  {
   "cell_type": "markdown",
   "metadata": {},
   "source": [
    "## Adding `Ticket` - Decision Tree"
   ]
  },
  {
   "cell_type": "code",
   "execution_count": null,
   "metadata": {
    "scrolled": true
   },
   "outputs": [],
   "source": [
    "X_train_try2 = X_train.copy()\n",
    "for index in np.array(X_train_try2.index):\n",
    "    X_train_try2['Ticket'][index] = re.sub('[\\d]','', X_train_try2['Ticket'][index]).replace('.', '').replace(' ', '')\n",
    "    X_train_try2['Ticket'][index] = re.sub('Paris', 'PARIS', X_train_try2['Ticket'][index])\n",
    "    X_train_try2['Ticket'][index] = re.sub('SOTON/O', 'STON/O', X_train_try2['Ticket'][index])\n",
    "    X_train_try2['Ticket'][index] = re.sub('STON/OQ', 'STON/O', X_train_try2['Ticket'][index])\n",
    "    X_train_try2['Ticket'][index] = re.sub('CA/SOTON', 'STON/O', X_train_try2['Ticket'][index])\n",
    "    most_common = ['PC', 'CA', 'STON/O', 'A/', 'W/C', 'SC/PARIS']\n",
    "    if sum([X_train_try2['Ticket'][index] == tic for tic in most_common]) != 1:\n",
    "        X_train_try2['Ticket'][index] = ''"
   ]
  },
  {
   "cell_type": "code",
   "execution_count": null,
   "metadata": {},
   "outputs": [],
   "source": [
    "X_train_copy = X_train.copy()\n",
    "X_train_copy['Sex'] = X_train_copy['Sex'].replace('male', 0).replace('female', 1)\n",
    "X_train_copy['Embarked'] = X_train_copy['Embarked'].fillna('S')\n",
    "\n",
    "avg_miss_age = round(np.mean(X_train_copy[X_train_copy['Name'].str.contains('Miss.')]['Age']), 2)\n",
    "avg_ms_age = round(np.mean(X_train_copy[X_train_copy['Name'].str.contains('Ms.')]['Age']), 2)\n",
    "avg_mrs_age = round(np.mean(X_train_copy[X_train_copy['Name'].str.contains('Mrs.')]['Age']), 2)\n",
    "avg_mr_age = round(np.mean(X_train_copy[X_train_copy['Name'].str.contains('Mr.')]['Age']), 2)\n",
    "avg_dr_age = round(np.mean(X_train_copy[X_train_copy['Name'].str.contains('Dr.')]['Age']), 2)\n",
    "avg_master_age = round(np.mean(X_train_copy[X_train_copy['Name'].str.contains('Master.')]['Age']), 2)\n",
    "\n",
    "X_train_age = X_train.mask(X_train['Name'].str.contains('Miss.') & X_train['Age'].isna(), avg_miss_age)\n",
    "X_train_age = X_train_age.mask(X_train['Name'].str.contains('Ms.') & X_train['Age'].isna(), avg_ms_age)\n",
    "X_train_age = X_train_age.mask(X_train['Name'].str.contains('Mrs.') & X_train['Age'].isna(), avg_mrs_age)\n",
    "X_train_age = X_train_age.mask(X_train['Name'].str.contains('Mr.') & X_train['Age'].isna(), avg_mr_age)\n",
    "X_train_age = X_train_age.mask(X_train['Name'].str.contains('Dr.') & X_train['Age'].isna(), avg_dr_age)\n",
    "X_train_age = X_train_age.mask(X_train['Name'].str.contains('Master.') & X_train['Age'].isna(), avg_dr_age)\n",
    "X_train_copy['Age'] = X_train_age['Age']\n",
    "\n",
    "X_train_copy = X_train_copy.drop(['Name'], axis=1)\n",
    "\n",
    "X_train_cabin = X_train.mask((X_train['Pclass']==1) & X_train['Cabin'].isna(), 'C')\n",
    "X_train_cabin = X_train_cabin.mask((X_train_cabin['Pclass']==3) & X_train_cabin['Cabin'].isna(), 'G')\n",
    "X_train_cabin = X_train_cabin.mask((X_train_cabin['Pclass']==2) & X_train_cabin['Cabin'].isna(), 'F')\n",
    "X_train_cabin = X_train_cabin.mask(X_train_cabin['Cabin'].str.contains('T'), 'A')\n",
    "cabin = [x[0] for x in X_train_cabin['Cabin']]\n",
    "X_train_copy['Cabin'] = cabin\n",
    "\n",
    "for index in np.array(X_train_copy.index):\n",
    "    X_train_copy['Ticket'][index] = re.sub('[\\d]','', X_train_copy['Ticket'][index]).replace('.', '').replace(' ', '')\n",
    "    X_train_copy['Ticket'][index] = re.sub('Paris', 'PARIS', X_train_copy['Ticket'][index])\n",
    "    X_train_copy['Ticket'][index] = re.sub('SOTON/O', 'STON/O', X_train_copy['Ticket'][index])\n",
    "    X_train_copy['Ticket'][index] = re.sub('STON/OQ', 'STON/O', X_train_copy['Ticket'][index])\n",
    "    X_train_copy['Ticket'][index] = re.sub('CA/SOTON', 'STON/O', X_train_copy['Ticket'][index])\n",
    "    most_common = ['PC', 'CA', 'STON/O', 'A/', 'SC/PARIS']\n",
    "    if sum([X_train_copy['Ticket'][index] == tic for tic in most_common]) != 1:\n",
    "        X_train_copy['Ticket'][index] = ''\n",
    "\n",
    "X_train_copy = pd.get_dummies(X_train_copy)\n",
    "\n",
    "clf = clf.fit(X_train_copy, Y_train)\n",
    "Y_pred = clf.predict(X_train_copy)\n",
    "print(accuracy_score(Y_train, Y_pred))"
   ]
  },
  {
   "cell_type": "code",
   "execution_count": null,
   "metadata": {},
   "outputs": [],
   "source": [
    "X_test_copy = X_test.copy()\n",
    "X_test_copy['Sex'] = X_test_copy['Sex'].replace('male', 0).replace('female', 1)\n",
    "X_test_copy['Embarked'] = X_test_copy['Embarked'].fillna('S')\n",
    "\n",
    "avg_miss_age = round(np.mean(X_test_copy[X_test_copy['Name'].str.contains('Miss.')]['Age']), 2)\n",
    "avg_ms_age = round(np.mean(X_test_copy[X_test_copy['Name'].str.contains('Ms.')]['Age']), 2)\n",
    "avg_mrs_age = round(np.mean(X_test_copy[X_test_copy['Name'].str.contains('Mrs.')]['Age']), 2)\n",
    "avg_mr_age = round(np.mean(X_test_copy[X_test_copy['Name'].str.contains('Mr.')]['Age']), 2)\n",
    "avg_dr_age = round(np.mean(X_test_copy[X_test_copy['Name'].str.contains('Dr.')]['Age']), 2)\n",
    "avg_master_age = round(np.mean(X_test_copy[X_test_copy['Name'].str.contains('Master.')]['Age']), 2)\n",
    "\n",
    "X_test_age = X_test.mask(X_test['Name'].str.contains('Miss.') & X_test['Age'].isna(), avg_miss_age)\n",
    "X_test_age = X_test_age.mask(X_test['Name'].str.contains('Ms.') & X_test['Age'].isna(), avg_ms_age)\n",
    "X_test_age = X_test_age.mask(X_test['Name'].str.contains('Mrs.') & X_test['Age'].isna(), avg_mrs_age)\n",
    "X_test_age = X_test_age.mask(X_test['Name'].str.contains('Mr.') & X_test['Age'].isna(), avg_mr_age)\n",
    "X_test_age = X_test_age.mask(X_test['Name'].str.contains('Dr.') & X_test['Age'].isna(), avg_dr_age)\n",
    "X_test_age = X_test_age.mask(X_test['Name'].str.contains('Master.') & X_test['Age'].isna(), avg_dr_age)\n",
    "X_test_copy['Age'] = X_test_age['Age']\n",
    "\n",
    "X_test_copy = X_test_copy.drop(['Name'], axis=1)\n",
    "\n",
    "X_test_cabin = X_test.mask((X_test['Pclass']==1) & X_test['Cabin'].isna(), 'C')\n",
    "X_test_cabin = X_test_cabin.mask((X_test_cabin['Pclass']==3) & X_test_cabin['Cabin'].isna(), 'G')\n",
    "X_test_cabin = X_test_cabin.mask((X_test_cabin['Pclass']==2) & X_test_cabin['Cabin'].isna(), 'F')\n",
    "X_test_cabin = X_test_cabin.mask(X_test_cabin['Cabin'].str.contains('T'), 'A')\n",
    "cabin = [x[0] for x in X_test_cabin['Cabin']]\n",
    "X_test_copy['Cabin'] = cabin\n",
    "\n",
    "for index in np.array(X_test_copy.index):\n",
    "    X_test_copy['Ticket'][index] = re.sub('[\\d]','', X_test_copy['Ticket'][index]).replace('.', '').replace(' ', '')\n",
    "    X_test_copy['Ticket'][index] = re.sub('Paris', 'PARIS', X_test_copy['Ticket'][index])\n",
    "    X_test_copy['Ticket'][index] = re.sub('SOTON/O', 'STON/O', X_test_copy['Ticket'][index])\n",
    "    X_test_copy['Ticket'][index] = re.sub('STON/OQ', 'STON/O', X_test_copy['Ticket'][index])\n",
    "    X_test_copy['Ticket'][index] = re.sub('CA/SOTON', 'STON/O', X_test_copy['Ticket'][index])\n",
    "    most_common = ['PC', 'CA', 'STON/O', 'A/', 'SC/PARIS']\n",
    "    if sum([X_test_copy['Ticket'][index] == tic for tic in most_common]) != 1:\n",
    "        X_test_copy['Ticket'][index] = ''\n",
    "\n",
    "X_test_copy = pd.get_dummies(X_test_copy)\n",
    "\n",
    "Y_pred = clf.predict(X_test_copy)\n",
    "print(accuracy_score(Y_test, Y_pred))"
   ]
  },
  {
   "cell_type": "markdown",
   "metadata": {},
   "source": [
    "## Neural Network (submission #2)"
   ]
  },
  {
   "cell_type": "code",
   "execution_count": null,
   "metadata": {},
   "outputs": [],
   "source": [
    "clf = MLPClassifier(hidden_layer_sizes=(20,20,20), max_iter=300, solver='lbfgs', \n",
    "                    verbose=1, random_state=42, activation='tanh')\n",
    "                                                                \n",
    "clf.fit(X_train_copy, Y_train)\n",
    "\n",
    "print('Accuracy on training---')\n",
    "y_pred_train = clf.predict(X_train_copy)\n",
    "print(accuracy_score(Y_train, y_pred_train))\n",
    "\n",
    "print('Accuracy on testing---')\n",
    "y_pred_test = clf.predict(X_test_copy)\n",
    "print(accuracy_score(Y_test, y_pred_test))"
   ]
  },
  {
   "cell_type": "markdown",
   "metadata": {},
   "source": [
    "___"
   ]
  },
  {
   "cell_type": "markdown",
   "metadata": {},
   "source": [
    "# Submission 3"
   ]
  },
  {
   "cell_type": "markdown",
   "metadata": {},
   "source": [
    "## Neural Network"
   ]
  },
  {
   "cell_type": "markdown",
   "metadata": {},
   "source": [
    "Only difference between this neural network versus the last one is `max_iter` is set to 600 instead of 300."
   ]
  },
  {
   "cell_type": "code",
   "execution_count": null,
   "metadata": {},
   "outputs": [],
   "source": [
    "clf = MLPClassifier(hidden_layer_sizes=(20,20,20), max_iter=600, solver='lbfgs', \n",
    "                    verbose=1, random_state=42, activation='tanh')\n",
    "                                                                \n",
    "clf.fit(X_train_copy, Y_train)\n",
    "\n",
    "print('Accuracy on training---')\n",
    "y_pred_train = clf.predict(X_train_copy)\n",
    "print(accuracy_score(Y_train, y_pred_train))\n",
    "\n",
    "print('Accuracy on testing---')\n",
    "y_pred_test = clf.predict(X_test_copy)\n",
    "print(accuracy_score(Y_test, y_pred_test))"
   ]
  },
  {
   "cell_type": "code",
   "execution_count": null,
   "metadata": {},
   "outputs": [],
   "source": [
    "df_test_copy = df_test.copy()\n",
    "df_test_copy['Sex'] = df_test_copy['Sex'].replace('male', 0).replace('female', 1)\n",
    "df_test_copy['Embarked'] = df_test_copy['Embarked'].fillna('S')\n",
    "\n",
    "avg_miss_age = round(np.mean(df_test_copy[df_test_copy['Name'].str.contains('Miss.')]['Age']), 2)\n",
    "avg_ms_age = round(np.mean(df_test_copy[df_test_copy['Name'].str.contains('Ms.')]['Age']), 2)\n",
    "avg_mrs_age = round(np.mean(df_test_copy[df_test_copy['Name'].str.contains('Mrs.')]['Age']), 2)\n",
    "avg_mr_age = round(np.mean(df_test_copy[df_test_copy['Name'].str.contains('Mr.')]['Age']), 2)\n",
    "avg_dr_age = round(np.mean(df_test_copy[df_test_copy['Name'].str.contains('Dr.')]['Age']), 2)\n",
    "avg_master_age = round(np.mean(df_test_copy[df_test_copy['Name'].str.contains('Master.')]['Age']), 2)\n",
    "\n",
    "df_test_age = df_test.mask(df_test['Name'].str.contains('Miss.') & df_test['Age'].isna(), avg_miss_age)\n",
    "df_test_age = df_test_age.mask(df_test['Name'].str.contains('Ms.') & df_test['Age'].isna(), avg_ms_age)\n",
    "df_test_age = df_test_age.mask(df_test['Name'].str.contains('Mrs.') & df_test['Age'].isna(), avg_mrs_age)\n",
    "df_test_age = df_test_age.mask(df_test['Name'].str.contains('Mr.') & df_test['Age'].isna(), avg_mr_age)\n",
    "df_test_age = df_test_age.mask(df_test['Name'].str.contains('Dr.') & df_test['Age'].isna(), avg_dr_age)\n",
    "df_test_age = df_test_age.mask(df_test['Name'].str.contains('Master.') & df_test['Age'].isna(), avg_dr_age)\n",
    "df_test_copy['Age'] = df_test_age['Age']\n",
    "\n",
    "df_test_copy = df_test_copy.drop(['Name'], axis=1)\n",
    "\n",
    "df_test_cabin = df_test.mask((df_test['Pclass']==1) & df_test['Cabin'].isna(), 'C')\n",
    "df_test_cabin = df_test_cabin.mask((df_test_cabin['Pclass']==3) & df_test_cabin['Cabin'].isna(), 'G')\n",
    "df_test_cabin = df_test_cabin.mask((df_test_cabin['Pclass']==2) & df_test_cabin['Cabin'].isna(), 'F')\n",
    "df_test_cabin = df_test_cabin.mask(df_test_cabin['Cabin'].str.contains('T'), 'A')\n",
    "cabin = [x[0] for x in df_test_cabin['Cabin']]\n",
    "df_test_copy['Cabin'] = cabin\n",
    "\n",
    "for index in np.array(df_test_copy.index):\n",
    "    df_test_copy['Ticket'][index] = re.sub('[\\d]','', df_test_copy['Ticket'][index]).replace('.', '').replace(' ', '')\n",
    "    df_test_copy['Ticket'][index] = re.sub('Paris', 'PARIS', df_test_copy['Ticket'][index])\n",
    "    df_test_copy['Ticket'][index] = re.sub('SOTON/O', 'STON/O', df_test_copy['Ticket'][index])\n",
    "    df_test_copy['Ticket'][index] = re.sub('STON/OQ', 'STON/O', df_test_copy['Ticket'][index])\n",
    "    df_test_copy['Ticket'][index] = re.sub('CA/SOTON', 'STON/O', df_test_copy['Ticket'][index])\n",
    "    most_common = ['PC', 'CA', 'STON/O', 'A/', 'SC/PARIS']\n",
    "    if sum([df_test_copy['Ticket'][index] == tic for tic in most_common]) != 1:\n",
    "        df_test_copy['Ticket'][index] = ''\n",
    "\n",
    "df_test_copy = pd.get_dummies(df_test_copy).fillna(0)"
   ]
  },
  {
   "cell_type": "code",
   "execution_count": null,
   "metadata": {},
   "outputs": [],
   "source": [
    "# Neural Network\n",
    "test_predictions = clf.predict(df_test_copy)\n",
    "test_predictions"
   ]
  },
  {
   "cell_type": "code",
   "execution_count": null,
   "metadata": {},
   "outputs": [],
   "source": [
    "submission = pd.DataFrame(index=df_test.PassengerId)\n",
    "submission['Survived'] = clf.predict(df_test_copy)\n",
    "submission['Survived'].value_counts()"
   ]
  },
  {
   "cell_type": "code",
   "execution_count": null,
   "metadata": {},
   "outputs": [],
   "source": [
    "# submission.reset_index().to_csv('submission.csv', index=False)"
   ]
  },
  {
   "cell_type": "markdown",
   "metadata": {},
   "source": [
    "## Summary\n",
    "\n",
    "### Version 1\n",
    "_submission 1_\n",
    "* Training Accuracy:  0.8038922155688623\n",
    "* Test Accuracy:  0.7937219730941704\n",
    "\n",
    "### Version 2 (logistic regression)\n",
    "* Train Accuracy:  0.8053892215568862\n",
    "* Test Accuracy:  0.8116591928251121\n",
    "\n",
    "### Version 2 (decision tree)\n",
    "* Train Accuracy: 0.8293413173652695\n",
    "* Test Accuracy: 0.8026905829596412\n",
    "\n",
    "### Version 2 (neural network w/ max_iter=300)\n",
    "_submission 2_\n",
    "* Train Accuracy: 0.8188622754491018\n",
    "* Train Accuracy: 0.820627802690583\n",
    "\n",
    "### Version 3 (neural network w/ max_iter=600)\n",
    "_submission 3_\n",
    "* Train Accuracy: 0.8338323353293413\n",
    "* Test Accuracy: 0.8385650224215246"
   ]
  },
  {
   "cell_type": "markdown",
   "metadata": {},
   "source": [
    "___"
   ]
  },
  {
   "cell_type": "markdown",
   "metadata": {},
   "source": [
    "# Submission 4"
   ]
  },
  {
   "cell_type": "markdown",
   "metadata": {},
   "source": [
    "### Log of `Fare`, log of `PassengerId`"
   ]
  },
  {
   "cell_type": "markdown",
   "metadata": {},
   "source": [
    "Initially tried log of `Age` too, but it lowered the accuracy. Initially thought `PassengerId` would not change anything, but logging it increased the accuracy."
   ]
  },
  {
   "cell_type": "code",
   "execution_count": null,
   "metadata": {},
   "outputs": [],
   "source": [
    "X_train_copy = X_train.copy()\n",
    "X_train_copy['Sex'] = X_train_copy['Sex'].replace('male', 0).replace('female', 1)\n",
    "X_train_copy['Embarked'] = X_train_copy['Embarked'].fillna('S')\n",
    "\n",
    "avg_miss_age = round(np.mean(X_train_copy[X_train_copy['Name'].str.contains('Miss.')]['Age']), 2)\n",
    "avg_ms_age = round(np.mean(X_train_copy[X_train_copy['Name'].str.contains('Ms.')]['Age']), 2)\n",
    "avg_mrs_age = round(np.mean(X_train_copy[X_train_copy['Name'].str.contains('Mrs.')]['Age']), 2)\n",
    "avg_mr_age = round(np.mean(X_train_copy[X_train_copy['Name'].str.contains('Mr.')]['Age']), 2)\n",
    "avg_dr_age = round(np.mean(X_train_copy[X_train_copy['Name'].str.contains('Dr.')]['Age']), 2)\n",
    "avg_master_age = round(np.mean(X_train_copy[X_train_copy['Name'].str.contains('Master.')]['Age']), 2)\n",
    "\n",
    "X_train_age = X_train.mask(X_train['Name'].str.contains('Miss.') & X_train['Age'].isna(), avg_miss_age)\n",
    "X_train_age = X_train_age.mask(X_train['Name'].str.contains('Ms.') & X_train['Age'].isna(), avg_ms_age)\n",
    "X_train_age = X_train_age.mask(X_train['Name'].str.contains('Mrs.') & X_train['Age'].isna(), avg_mrs_age)\n",
    "X_train_age = X_train_age.mask(X_train['Name'].str.contains('Mr.') & X_train['Age'].isna(), avg_mr_age)\n",
    "X_train_age = X_train_age.mask(X_train['Name'].str.contains('Dr.') & X_train['Age'].isna(), avg_dr_age)\n",
    "X_train_age = X_train_age.mask(X_train['Name'].str.contains('Master.') & X_train['Age'].isna(), avg_dr_age)\n",
    "X_train_copy['Age'] = X_train_age['Age']\n",
    "\n",
    "X_train_copy = X_train_copy.drop(['Name'], axis=1)\n",
    "\n",
    "X_train_cabin = X_train.mask((X_train['Pclass']==1) & X_train['Cabin'].isna(), 'C')\n",
    "X_train_cabin = X_train_cabin.mask((X_train_cabin['Pclass']==3) & X_train_cabin['Cabin'].isna(), 'G')\n",
    "X_train_cabin = X_train_cabin.mask((X_train_cabin['Pclass']==2) & X_train_cabin['Cabin'].isna(), 'F')\n",
    "X_train_cabin = X_train_cabin.mask(X_train_cabin['Cabin'].str.contains('T'), 'A')\n",
    "cabin = [x[0] for x in X_train_cabin['Cabin']]\n",
    "X_train_copy['Cabin'] = cabin\n",
    "\n",
    "for index in np.array(X_train_copy.index):\n",
    "    X_train_copy['Ticket'][index] = re.sub('[\\d]','', X_train_copy['Ticket'][index]).replace('.', '').replace(' ', '')\n",
    "    X_train_copy['Ticket'][index] = re.sub('Paris', 'PARIS', X_train_copy['Ticket'][index])\n",
    "    X_train_copy['Ticket'][index] = re.sub('SOTON/O', 'STON/O', X_train_copy['Ticket'][index])\n",
    "    X_train_copy['Ticket'][index] = re.sub('STON/OQ', 'STON/O', X_train_copy['Ticket'][index])\n",
    "    X_train_copy['Ticket'][index] = re.sub('CA/SOTON', 'STON/O', X_train_copy['Ticket'][index])\n",
    "    most_common = ['PC', 'CA', 'STON/O', 'A/', 'SC/PARIS']\n",
    "    if sum([X_train_copy['Ticket'][index] == tic for tic in most_common]) != 1:\n",
    "        X_train_copy['Ticket'][index] = ''\n",
    "\n",
    "X_train_copy = pd.get_dummies(X_train_copy).fillna(0)\n",
    "\n",
    "# New\n",
    "X_train_copy['Fare'] = np.log(X_train_copy['Fare']).replace(-np.inf,0)\n",
    "X_train_copy['PassengerId'] = np.log(X_train_copy['PassengerId']).replace(-np.inf,0)\n",
    "\n",
    "\n",
    "clf = MLPClassifier(hidden_layer_sizes=(20,20,20), max_iter=600, solver='lbfgs', \n",
    "                    verbose=1, random_state=42, activation='tanh')\n",
    "                                                                \n",
    "clf.fit(X_train_copy, Y_train)\n",
    "\n",
    "print('Accuracy on training---')\n",
    "y_pred_train = clf.predict(X_train_copy)\n",
    "print(accuracy_score(Y_train, y_pred_train))"
   ]
  },
  {
   "cell_type": "code",
   "execution_count": null,
   "metadata": {},
   "outputs": [],
   "source": [
    "X_test_copy = X_test.copy()\n",
    "X_test_copy['Sex'] = X_test_copy['Sex'].replace('male', 0).replace('female', 1)\n",
    "X_test_copy['Embarked'] = X_test_copy['Embarked'].fillna('S')\n",
    "\n",
    "avg_miss_age = round(np.mean(X_test_copy[X_test_copy['Name'].str.contains('Miss.')]['Age']), 2)\n",
    "avg_ms_age = round(np.mean(X_test_copy[X_test_copy['Name'].str.contains('Ms.')]['Age']), 2)\n",
    "avg_mrs_age = round(np.mean(X_test_copy[X_test_copy['Name'].str.contains('Mrs.')]['Age']), 2)\n",
    "avg_mr_age = round(np.mean(X_test_copy[X_test_copy['Name'].str.contains('Mr.')]['Age']), 2)\n",
    "avg_dr_age = round(np.mean(X_test_copy[X_test_copy['Name'].str.contains('Dr.')]['Age']), 2)\n",
    "avg_master_age = round(np.mean(X_test_copy[X_test_copy['Name'].str.contains('Master.')]['Age']), 2)\n",
    "\n",
    "X_test_age = X_test.mask(X_test['Name'].str.contains('Miss.') & X_test['Age'].isna(), avg_miss_age)\n",
    "X_test_age = X_test_age.mask(X_test['Name'].str.contains('Ms.') & X_test['Age'].isna(), avg_ms_age)\n",
    "X_test_age = X_test_age.mask(X_test['Name'].str.contains('Mrs.') & X_test['Age'].isna(), avg_mrs_age)\n",
    "X_test_age = X_test_age.mask(X_test['Name'].str.contains('Mr.') & X_test['Age'].isna(), avg_mr_age)\n",
    "X_test_age = X_test_age.mask(X_test['Name'].str.contains('Dr.') & X_test['Age'].isna(), avg_dr_age)\n",
    "X_test_age = X_test_age.mask(X_test['Name'].str.contains('Master.') & X_test['Age'].isna(), avg_dr_age)\n",
    "X_test_copy['Age'] = X_test_age['Age']\n",
    "\n",
    "X_test_copy = X_test_copy.drop(['Name'], axis=1)\n",
    "\n",
    "X_test_cabin = X_test.mask((X_test['Pclass']==1) & X_test['Cabin'].isna(), 'C')\n",
    "X_test_cabin = X_test_cabin.mask((X_test_cabin['Pclass']==3) & X_test_cabin['Cabin'].isna(), 'G')\n",
    "X_test_cabin = X_test_cabin.mask((X_test_cabin['Pclass']==2) & X_test_cabin['Cabin'].isna(), 'F')\n",
    "X_test_cabin = X_test_cabin.mask(X_test_cabin['Cabin'].str.contains('T'), 'A')\n",
    "cabin = [x[0] for x in X_test_cabin['Cabin']]\n",
    "X_test_copy['Cabin'] = cabin\n",
    "\n",
    "for index in np.array(X_test_copy.index):\n",
    "    X_test_copy['Ticket'][index] = re.sub('[\\d]','', X_test_copy['Ticket'][index]).replace('.', '').replace(' ', '')\n",
    "    X_test_copy['Ticket'][index] = re.sub('Paris', 'PARIS', X_test_copy['Ticket'][index])\n",
    "    X_test_copy['Ticket'][index] = re.sub('SOTON/O', 'STON/O', X_test_copy['Ticket'][index])\n",
    "    X_test_copy['Ticket'][index] = re.sub('STON/OQ', 'STON/O', X_test_copy['Ticket'][index])\n",
    "    X_test_copy['Ticket'][index] = re.sub('CA/SOTON', 'STON/O', X_test_copy['Ticket'][index])\n",
    "    most_common = ['PC', 'CA', 'STON/O', 'A/', 'SC/PARIS']\n",
    "    if sum([X_test_copy['Ticket'][index] == tic for tic in most_common]) != 1:\n",
    "        X_test_copy['Ticket'][index] = ''\n",
    "\n",
    "X_test_copy = pd.get_dummies(X_test_copy).fillna(0)\n",
    "\n",
    "# New\n",
    "X_test_copy['Fare'] = np.log(X_test_copy['Fare']).replace(-np.inf,0)\n",
    "X_test_copy['PassengerId'] = np.log(X_test_copy['PassengerId']).replace(-np.inf,0)\n",
    "\n",
    "print('Accuracy on testing---')\n",
    "y_pred_test = clf.predict(X_test_copy)\n",
    "print(accuracy_score(Y_test, y_pred_test))"
   ]
  },
  {
   "cell_type": "code",
   "execution_count": null,
   "metadata": {},
   "outputs": [],
   "source": [
    "df_test_copy = df_test.copy()\n",
    "df_test_copy['Sex'] = df_test_copy['Sex'].replace('male', 0).replace('female', 1)\n",
    "df_test_copy['Embarked'] = df_test_copy['Embarked'].fillna('S')\n",
    "\n",
    "avg_miss_age = round(np.mean(df_test_copy[df_test_copy['Name'].str.contains('Miss.')]['Age']), 2)\n",
    "avg_ms_age = round(np.mean(df_test_copy[df_test_copy['Name'].str.contains('Ms.')]['Age']), 2)\n",
    "avg_mrs_age = round(np.mean(df_test_copy[df_test_copy['Name'].str.contains('Mrs.')]['Age']), 2)\n",
    "avg_mr_age = round(np.mean(df_test_copy[df_test_copy['Name'].str.contains('Mr.')]['Age']), 2)\n",
    "avg_dr_age = round(np.mean(df_test_copy[df_test_copy['Name'].str.contains('Dr.')]['Age']), 2)\n",
    "avg_master_age = round(np.mean(df_test_copy[df_test_copy['Name'].str.contains('Master.')]['Age']), 2)\n",
    "\n",
    "df_test_age = df_test.mask(df_test['Name'].str.contains('Miss.') & df_test['Age'].isna(), avg_miss_age)\n",
    "df_test_age = df_test_age.mask(df_test['Name'].str.contains('Ms.') & df_test['Age'].isna(), avg_ms_age)\n",
    "df_test_age = df_test_age.mask(df_test['Name'].str.contains('Mrs.') & df_test['Age'].isna(), avg_mrs_age)\n",
    "df_test_age = df_test_age.mask(df_test['Name'].str.contains('Mr.') & df_test['Age'].isna(), avg_mr_age)\n",
    "df_test_age = df_test_age.mask(df_test['Name'].str.contains('Dr.') & df_test['Age'].isna(), avg_dr_age)\n",
    "df_test_age = df_test_age.mask(df_test['Name'].str.contains('Master.') & df_test['Age'].isna(), avg_dr_age)\n",
    "df_test_copy['Age'] = df_test_age['Age']\n",
    "\n",
    "df_test_copy = df_test_copy.drop(['Name'], axis=1)\n",
    "\n",
    "df_test_cabin = df_test.mask((df_test['Pclass']==1) & df_test['Cabin'].isna(), 'C')\n",
    "df_test_cabin = df_test_cabin.mask((df_test_cabin['Pclass']==3) & df_test_cabin['Cabin'].isna(), 'G')\n",
    "df_test_cabin = df_test_cabin.mask((df_test_cabin['Pclass']==2) & df_test_cabin['Cabin'].isna(), 'F')\n",
    "df_test_cabin = df_test_cabin.mask(df_test_cabin['Cabin'].str.contains('T'), 'A')\n",
    "cabin = [x[0] for x in df_test_cabin['Cabin']]\n",
    "df_test_copy['Cabin'] = cabin\n",
    "\n",
    "for index in np.array(df_test_copy.index):\n",
    "    df_test_copy['Ticket'][index] = re.sub('[\\d]','', df_test_copy['Ticket'][index]).replace('.', '').replace(' ', '')\n",
    "    df_test_copy['Ticket'][index] = re.sub('Paris', 'PARIS', df_test_copy['Ticket'][index])\n",
    "    df_test_copy['Ticket'][index] = re.sub('SOTON/O', 'STON/O', df_test_copy['Ticket'][index])\n",
    "    df_test_copy['Ticket'][index] = re.sub('STON/OQ', 'STON/O', df_test_copy['Ticket'][index])\n",
    "    df_test_copy['Ticket'][index] = re.sub('CA/SOTON', 'STON/O', df_test_copy['Ticket'][index])\n",
    "    most_common = ['PC', 'CA', 'STON/O', 'A/', 'SC/PARIS']\n",
    "    if sum([df_test_copy['Ticket'][index] == tic for tic in most_common]) != 1:\n",
    "        df_test_copy['Ticket'][index] = ''\n",
    "\n",
    "df_test_copy = pd.get_dummies(df_test_copy).fillna(0)   \n",
    "\n",
    "df_test_copy['Fare'] = np.log(df_test_copy['Fare']).replace(-np.inf,0)\n",
    "df_test_copy['PassengerId'] = np.log(df_test_copy['PassengerId']).replace(-np.inf,0)\n",
    "\n",
    "df_test_copy = pd.get_dummies(df_test_copy).fillna(0)"
   ]
  },
  {
   "cell_type": "code",
   "execution_count": null,
   "metadata": {},
   "outputs": [],
   "source": [
    "test_predictions = clf.predict(df_test_copy)\n",
    "test_predictions"
   ]
  },
  {
   "cell_type": "code",
   "execution_count": null,
   "metadata": {},
   "outputs": [],
   "source": [
    "submission = pd.DataFrame(index=df_test.PassengerId)\n",
    "submission['Survived'] = clf.predict(df_test_copy)\n",
    "submission['Survived'].value_counts()"
   ]
  },
  {
   "cell_type": "code",
   "execution_count": null,
   "metadata": {},
   "outputs": [],
   "source": [
    "# submission.reset_index().to_csv('submission_4.csv', index=False)"
   ]
  },
  {
   "cell_type": "markdown",
   "metadata": {},
   "source": [
    "### Logging `Fare` and `PassengerId` made it lower than all other submissions"
   ]
  },
  {
   "cell_type": "markdown",
   "metadata": {},
   "source": [
    "______"
   ]
  },
  {
   "cell_type": "markdown",
   "metadata": {},
   "source": [
    "# Submission 5"
   ]
  },
  {
   "cell_type": "markdown",
   "metadata": {},
   "source": [
    "### Normalizing all numeric columns instead of using log"
   ]
  },
  {
   "cell_type": "code",
   "execution_count": null,
   "metadata": {},
   "outputs": [],
   "source": [
    "X_train_copy = X_train.copy()\n",
    "X_train_copy['Sex'] = X_train_copy['Sex'].replace('male', 0).replace('female', 1)\n",
    "X_train_copy['Embarked'] = X_train_copy['Embarked'].fillna('S')\n",
    "\n",
    "avg_miss_age = round(np.mean(X_train_copy[X_train_copy['Name'].str.contains('Miss.')]['Age']), 2)\n",
    "avg_ms_age = round(np.mean(X_train_copy[X_train_copy['Name'].str.contains('Ms.')]['Age']), 2)\n",
    "avg_mrs_age = round(np.mean(X_train_copy[X_train_copy['Name'].str.contains('Mrs.')]['Age']), 2)\n",
    "avg_mr_age = round(np.mean(X_train_copy[X_train_copy['Name'].str.contains('Mr.')]['Age']), 2)\n",
    "avg_dr_age = round(np.mean(X_train_copy[X_train_copy['Name'].str.contains('Dr.')]['Age']), 2)\n",
    "avg_master_age = round(np.mean(X_train_copy[X_train_copy['Name'].str.contains('Master.')]['Age']), 2)\n",
    "\n",
    "X_train_age = X_train.mask(X_train['Name'].str.contains('Miss.') & X_train['Age'].isna(), avg_miss_age)\n",
    "X_train_age = X_train_age.mask(X_train['Name'].str.contains('Ms.') & X_train['Age'].isna(), avg_ms_age)\n",
    "X_train_age = X_train_age.mask(X_train['Name'].str.contains('Mrs.') & X_train['Age'].isna(), avg_mrs_age)\n",
    "X_train_age = X_train_age.mask(X_train['Name'].str.contains('Mr.') & X_train['Age'].isna(), avg_mr_age)\n",
    "X_train_age = X_train_age.mask(X_train['Name'].str.contains('Dr.') & X_train['Age'].isna(), avg_dr_age)\n",
    "X_train_age = X_train_age.mask(X_train['Name'].str.contains('Master.') & X_train['Age'].isna(), avg_dr_age)\n",
    "X_train_copy['Age'] = X_train_age['Age']\n",
    "\n",
    "X_train_copy = X_train_copy.drop(['Name'], axis=1)\n",
    "\n",
    "X_train_cabin = X_train.mask((X_train['Pclass']==1) & X_train['Cabin'].isna(), 'C')\n",
    "X_train_cabin = X_train_cabin.mask((X_train_cabin['Pclass']==3) & X_train_cabin['Cabin'].isna(), 'G')\n",
    "X_train_cabin = X_train_cabin.mask((X_train_cabin['Pclass']==2) & X_train_cabin['Cabin'].isna(), 'F')\n",
    "X_train_cabin = X_train_cabin.mask(X_train_cabin['Cabin'].str.contains('T'), 'A')\n",
    "cabin = [x[0] for x in X_train_cabin['Cabin']]\n",
    "X_train_copy['Cabin'] = cabin\n",
    "\n",
    "for index in np.array(X_train_copy.index):\n",
    "    X_train_copy['Ticket'][index] = re.sub('[\\d]','', X_train_copy['Ticket'][index]).replace('.', '').replace(' ', '')\n",
    "    X_train_copy['Ticket'][index] = re.sub('Paris', 'PARIS', X_train_copy['Ticket'][index])\n",
    "    X_train_copy['Ticket'][index] = re.sub('SOTON/O', 'STON/O', X_train_copy['Ticket'][index])\n",
    "    X_train_copy['Ticket'][index] = re.sub('STON/OQ', 'STON/O', X_train_copy['Ticket'][index])\n",
    "    X_train_copy['Ticket'][index] = re.sub('CA/SOTON', 'STON/O', X_train_copy['Ticket'][index])\n",
    "    most_common = ['PC', 'CA', 'STON/O', 'A/', 'SC/PARIS']\n",
    "    if sum([X_train_copy['Ticket'][index] == tic for tic in most_common]) != 1:\n",
    "        X_train_copy['Ticket'][index] = ''\n",
    "\n",
    "X_train_copy = pd.get_dummies(X_train_copy).fillna(0)\n",
    "\n",
    "# New\n",
    "X_norm = X_train.copy()\n",
    "X_train_copy['Fare'] = X_norm['Fare'] / X_norm['Fare'].max()\n",
    "X_train_copy['Age'] = X_norm['Age'] / X_norm['Age'].max()\n",
    "X_train_copy['PassengerId'] = X_norm['PassengerId'] / X_norm['PassengerId'].max()\n",
    "X_train_copy['Pclass'] = X_norm['Pclass'] / X_norm['Pclass'].max()\n",
    "X_train_copy['SibSp'] = X_norm['SibSp'] / X_norm['SibSp'].max()\n",
    "\n",
    "X_train_copy = X_train_copy.fillna(0)\n",
    "\n",
    "clf = MLPClassifier(hidden_layer_sizes=(20,20,20), max_iter=600, solver='lbfgs', \n",
    "                    verbose=1, random_state=42, activation='relu') # changed to relu\n",
    "                                                                \n",
    "clf.fit(X_train_copy, Y_train)\n",
    "\n",
    "print('Accuracy on training---')\n",
    "y_pred_train = clf.predict(X_train_copy)\n",
    "print(accuracy_score(Y_train, y_pred_train))"
   ]
  },
  {
   "cell_type": "code",
   "execution_count": null,
   "metadata": {},
   "outputs": [],
   "source": [
    "X_test_copy = X_test.copy()\n",
    "X_test_copy['Sex'] = X_test_copy['Sex'].replace('male', 0).replace('female', 1)\n",
    "X_test_copy['Embarked'] = X_test_copy['Embarked'].fillna('S')\n",
    "\n",
    "avg_miss_age = round(np.mean(X_test_copy[X_test_copy['Name'].str.contains('Miss.')]['Age']), 2)\n",
    "avg_ms_age = round(np.mean(X_test_copy[X_test_copy['Name'].str.contains('Ms.')]['Age']), 2)\n",
    "avg_mrs_age = round(np.mean(X_test_copy[X_test_copy['Name'].str.contains('Mrs.')]['Age']), 2)\n",
    "avg_mr_age = round(np.mean(X_test_copy[X_test_copy['Name'].str.contains('Mr.')]['Age']), 2)\n",
    "avg_dr_age = round(np.mean(X_test_copy[X_test_copy['Name'].str.contains('Dr.')]['Age']), 2)\n",
    "avg_master_age = round(np.mean(X_test_copy[X_test_copy['Name'].str.contains('Master.')]['Age']), 2)\n",
    "\n",
    "X_test_age = X_test.mask(X_test['Name'].str.contains('Miss.') & X_test['Age'].isna(), avg_miss_age)\n",
    "X_test_age = X_test_age.mask(X_test['Name'].str.contains('Ms.') & X_test['Age'].isna(), avg_ms_age)\n",
    "X_test_age = X_test_age.mask(X_test['Name'].str.contains('Mrs.') & X_test['Age'].isna(), avg_mrs_age)\n",
    "X_test_age = X_test_age.mask(X_test['Name'].str.contains('Mr.') & X_test['Age'].isna(), avg_mr_age)\n",
    "X_test_age = X_test_age.mask(X_test['Name'].str.contains('Dr.') & X_test['Age'].isna(), avg_dr_age)\n",
    "X_test_age = X_test_age.mask(X_test['Name'].str.contains('Master.') & X_test['Age'].isna(), avg_dr_age)\n",
    "X_test_copy['Age'] = X_test_age['Age']\n",
    "\n",
    "X_test_copy = X_test_copy.drop(['Name'], axis=1)\n",
    "\n",
    "X_test_cabin = X_test.mask((X_test['Pclass']==1) & X_test['Cabin'].isna(), 'C')\n",
    "X_test_cabin = X_test_cabin.mask((X_test_cabin['Pclass']==3) & X_test_cabin['Cabin'].isna(), 'G')\n",
    "X_test_cabin = X_test_cabin.mask((X_test_cabin['Pclass']==2) & X_test_cabin['Cabin'].isna(), 'F')\n",
    "X_test_cabin = X_test_cabin.mask(X_test_cabin['Cabin'].str.contains('T'), 'A')\n",
    "cabin = [x[0] for x in X_test_cabin['Cabin']]\n",
    "X_test_copy['Cabin'] = cabin\n",
    "\n",
    "for index in np.array(X_test_copy.index):\n",
    "    X_test_copy['Ticket'][index] = re.sub('[\\d]','', X_test_copy['Ticket'][index]).replace('.', '').replace(' ', '')\n",
    "    X_test_copy['Ticket'][index] = re.sub('Paris', 'PARIS', X_test_copy['Ticket'][index])\n",
    "    X_test_copy['Ticket'][index] = re.sub('SOTON/O', 'STON/O', X_test_copy['Ticket'][index])\n",
    "    X_test_copy['Ticket'][index] = re.sub('STON/OQ', 'STON/O', X_test_copy['Ticket'][index])\n",
    "    X_test_copy['Ticket'][index] = re.sub('CA/SOTON', 'STON/O', X_test_copy['Ticket'][index])\n",
    "    most_common = ['PC', 'CA', 'STON/O', 'A/', 'SC/PARIS']\n",
    "    if sum([X_test_copy['Ticket'][index] == tic for tic in most_common]) != 1:\n",
    "        X_test_copy['Ticket'][index] = ''\n",
    "\n",
    "X_test_copy = pd.get_dummies(X_test_copy).fillna(0)\n",
    "\n",
    "# New\n",
    "X_norm = X_test.copy()\n",
    "X_test_copy['Fare'] = X_norm['Fare'] / X_norm['Fare'].max()\n",
    "X_test_copy['Age'] = X_norm['Age'] / X_norm['Age'].max()\n",
    "X_test_copy['PassengerId'] = X_norm['PassengerId'] / X_norm['PassengerId'].max()\n",
    "X_test_copy['Pclass'] = X_norm['Pclass'] / X_norm['Pclass'].max()\n",
    "X_test_copy['SibSp'] = X_norm['SibSp'] / X_norm['SibSp'].max()\n",
    "\n",
    "X_test_copy = X_test_copy.fillna(0)\n",
    "\n",
    "print('Accuracy on testing---')\n",
    "y_pred_test = clf.predict(X_test_copy)\n",
    "print(accuracy_score(Y_test, y_pred_test))"
   ]
  },
  {
   "cell_type": "code",
   "execution_count": null,
   "metadata": {},
   "outputs": [],
   "source": [
    "df_test_copy = df_test.copy()\n",
    "df_test_copy['Sex'] = df_test_copy['Sex'].replace('male', 0).replace('female', 1)\n",
    "df_test_copy['Embarked'] = df_test_copy['Embarked'].fillna('S')\n",
    "\n",
    "avg_miss_age = round(np.mean(df_test_copy[df_test_copy['Name'].str.contains('Miss.')]['Age']), 2)\n",
    "avg_ms_age = round(np.mean(df_test_copy[df_test_copy['Name'].str.contains('Ms.')]['Age']), 2)\n",
    "avg_mrs_age = round(np.mean(df_test_copy[df_test_copy['Name'].str.contains('Mrs.')]['Age']), 2)\n",
    "avg_mr_age = round(np.mean(df_test_copy[df_test_copy['Name'].str.contains('Mr.')]['Age']), 2)\n",
    "avg_dr_age = round(np.mean(df_test_copy[df_test_copy['Name'].str.contains('Dr.')]['Age']), 2)\n",
    "avg_master_age = round(np.mean(df_test_copy[df_test_copy['Name'].str.contains('Master.')]['Age']), 2)\n",
    "\n",
    "df_test_age = df_test.mask(df_test['Name'].str.contains('Miss.') & df_test['Age'].isna(), avg_miss_age)\n",
    "df_test_age = df_test_age.mask(df_test['Name'].str.contains('Ms.') & df_test['Age'].isna(), avg_ms_age)\n",
    "df_test_age = df_test_age.mask(df_test['Name'].str.contains('Mrs.') & df_test['Age'].isna(), avg_mrs_age)\n",
    "df_test_age = df_test_age.mask(df_test['Name'].str.contains('Mr.') & df_test['Age'].isna(), avg_mr_age)\n",
    "df_test_age = df_test_age.mask(df_test['Name'].str.contains('Dr.') & df_test['Age'].isna(), avg_dr_age)\n",
    "df_test_age = df_test_age.mask(df_test['Name'].str.contains('Master.') & df_test['Age'].isna(), avg_dr_age)\n",
    "df_test_copy['Age'] = df_test_age['Age']\n",
    "\n",
    "df_test_copy = df_test_copy.drop(['Name'], axis=1)\n",
    "\n",
    "df_test_cabin = df_test.mask((df_test['Pclass']==1) & df_test['Cabin'].isna(), 'C')\n",
    "df_test_cabin = df_test_cabin.mask((df_test_cabin['Pclass']==3) & df_test_cabin['Cabin'].isna(), 'G')\n",
    "df_test_cabin = df_test_cabin.mask((df_test_cabin['Pclass']==2) & df_test_cabin['Cabin'].isna(), 'F')\n",
    "df_test_cabin = df_test_cabin.mask(df_test_cabin['Cabin'].str.contains('T'), 'A')\n",
    "cabin = [x[0] for x in df_test_cabin['Cabin']]\n",
    "df_test_copy['Cabin'] = cabin\n",
    "\n",
    "for index in np.array(df_test_copy.index):\n",
    "    df_test_copy['Ticket'][index] = re.sub('[\\d]','', df_test_copy['Ticket'][index]).replace('.', '').replace(' ', '')\n",
    "    df_test_copy['Ticket'][index] = re.sub('Paris', 'PARIS', df_test_copy['Ticket'][index])\n",
    "    df_test_copy['Ticket'][index] = re.sub('SOTON/O', 'STON/O', df_test_copy['Ticket'][index])\n",
    "    df_test_copy['Ticket'][index] = re.sub('STON/OQ', 'STON/O', df_test_copy['Ticket'][index])\n",
    "    df_test_copy['Ticket'][index] = re.sub('CA/SOTON', 'STON/O', df_test_copy['Ticket'][index])\n",
    "    most_common = ['PC', 'CA', 'STON/O', 'A/', 'SC/PARIS']\n",
    "    if sum([df_test_copy['Ticket'][index] == tic for tic in most_common]) != 1:\n",
    "        df_test_copy['Ticket'][index] = ''\n",
    "\n",
    "df_test_copy = pd.get_dummies(df_test_copy).fillna(0)   \n",
    "\n",
    "df_norm = df_test.copy()\n",
    "df_test_copy['Fare'] = X_norm['Fare'] / X_norm['Fare'].max()\n",
    "df_test_copy['Age'] = X_norm['Age'] / X_norm['Age'].max()\n",
    "df_test_copy['PassengerId'] = X_norm['PassengerId'] / X_norm['PassengerId'].max()\n",
    "df_test_copy['Pclass'] = X_norm['Pclass'] / X_norm['Pclass'].max()\n",
    "df_test_copy['SibSp'] = X_norm['SibSp'] / X_norm['SibSp'].max()\n",
    "\n",
    "df_test_copy = pd.get_dummies(df_test_copy).fillna(0)"
   ]
  },
  {
   "cell_type": "code",
   "execution_count": null,
   "metadata": {
    "scrolled": true
   },
   "outputs": [],
   "source": [
    "test_predictions = clf.predict(df_test_copy)\n",
    "test_predictions"
   ]
  },
  {
   "cell_type": "code",
   "execution_count": null,
   "metadata": {},
   "outputs": [],
   "source": [
    "submission = pd.DataFrame(index=df_test.PassengerId)\n",
    "submission['Survived'] = clf.predict(df_test_copy)\n",
    "submission['Survived'].value_counts()"
   ]
  },
  {
   "cell_type": "code",
   "execution_count": null,
   "metadata": {},
   "outputs": [],
   "source": [
    "# submission.reset_index().to_csv('submission_5_10.csv', index=False)"
   ]
  },
  {
   "cell_type": "markdown",
   "metadata": {},
   "source": [
    "### This is the highest submission so far at a score of 0.77511."
   ]
  },
  {
   "cell_type": "markdown",
   "metadata": {},
   "source": [
    "______"
   ]
  },
  {
   "cell_type": "markdown",
   "metadata": {},
   "source": [
    "# Submission 6"
   ]
  },
  {
   "cell_type": "markdown",
   "metadata": {},
   "source": [
    "## Forming `Group Size` and `Solo Traveller` columns"
   ]
  },
  {
   "cell_type": "markdown",
   "metadata": {},
   "source": [
    "Combining `SibSp` and `Parch` to form `Group Size`. `Group Size` will be replaced for those who are marked as a size of 1 (just themself) that have an identical `Ticket` number as others."
   ]
  },
  {
   "cell_type": "code",
   "execution_count": null,
   "metadata": {},
   "outputs": [],
   "source": [
    "X_groups = X_train.copy()\n",
    "X_groups['Survived'] = Y_train\n",
    "X_groups['Group Size'] = X_groups['SibSp'] + X_groups['Parch'] + 1 # includes themself\n",
    "X_groups['Solo Traveler'] = (X_groups['Group Size'] == 1)*1"
   ]
  },
  {
   "cell_type": "code",
   "execution_count": null,
   "metadata": {},
   "outputs": [],
   "source": [
    "# People traveling together indicated by identical ticket numbers\n",
    "df_train.groupby('Ticket').size()"
   ]
  },
  {
   "cell_type": "code",
   "execution_count": null,
   "metadata": {},
   "outputs": [],
   "source": [
    "# There are 13 entries marked as solo travelers when they aren't (they share the same ticket # as someone else)\n",
    "sum(X_groups[X_groups['Solo Traveler'] == 1].groupby('Ticket').size() > 1)"
   ]
  },
  {
   "cell_type": "code",
   "execution_count": null,
   "metadata": {},
   "outputs": [],
   "source": [
    "tics = pd.DataFrame(X_groups[X_groups['Solo Traveler'] == 1].groupby('Ticket').size())\n",
    "identical_tics = tics[tics.iloc[:,0] > 1].index\n",
    "tic_counts = tics[tics.iloc[:,0] > 1].values\n",
    "tics[tics.iloc[:,0] > 1].T"
   ]
  },
  {
   "cell_type": "code",
   "execution_count": null,
   "metadata": {},
   "outputs": [],
   "source": [
    "X_groups2 = X_groups.copy()\n",
    "i = 0\n",
    "for tic in identical_tics:\n",
    "    X_groups2 = X_groups2.mask((X_groups['Ticket'] == tic), tic_counts[i].item())\n",
    "    i += 1\n",
    "X_groups['Group Size'] = X_groups2['Group Size']\n",
    "\n",
    "sum(X_groups[X_groups['Group Size'] == 1].groupby('Ticket').size() > 1)"
   ]
  },
  {
   "cell_type": "code",
   "execution_count": null,
   "metadata": {},
   "outputs": [],
   "source": [
    "# Adjust solo traveler due to group size change\n",
    "X_groups['Solo Traveler'] = (X_groups['Group Size'] == 1)*1\n",
    "sum(X_groups[X_groups['Group Size'] > 1]['Solo Traveler'] == 1)"
   ]
  },
  {
   "cell_type": "code",
   "execution_count": null,
   "metadata": {},
   "outputs": [],
   "source": [
    "X_groups.groupby(['Group Size']).mean()['Survived']"
   ]
  },
  {
   "cell_type": "markdown",
   "metadata": {},
   "source": [
    "###  Train & test"
   ]
  },
  {
   "cell_type": "code",
   "execution_count": null,
   "metadata": {},
   "outputs": [],
   "source": [
    "X_train_copy = X_train.copy()\n",
    "X_train_copy['Sex'] = X_train_copy['Sex'].replace('male', 0).replace('female', 1)\n",
    "X_train_copy['Embarked'] = X_train_copy['Embarked'].fillna('S')\n",
    "\n",
    "avg_miss_age = round(np.mean(X_train_copy[X_train_copy['Name'].str.contains('Miss.')]['Age']), 2)\n",
    "avg_ms_age = round(np.mean(X_train_copy[X_train_copy['Name'].str.contains('Ms.')]['Age']), 2)\n",
    "avg_mrs_age = round(np.mean(X_train_copy[X_train_copy['Name'].str.contains('Mrs.')]['Age']), 2)\n",
    "avg_mr_age = round(np.mean(X_train_copy[X_train_copy['Name'].str.contains('Mr.')]['Age']), 2)\n",
    "avg_dr_age = round(np.mean(X_train_copy[X_train_copy['Name'].str.contains('Dr.')]['Age']), 2)\n",
    "avg_master_age = round(np.mean(X_train_copy[X_train_copy['Name'].str.contains('Master.')]['Age']), 2)\n",
    "\n",
    "X_train_age = X_train.mask(X_train['Name'].str.contains('Miss.') & X_train['Age'].isna(), avg_miss_age)\n",
    "X_train_age = X_train_age.mask(X_train['Name'].str.contains('Ms.') & X_train['Age'].isna(), avg_ms_age)\n",
    "X_train_age = X_train_age.mask(X_train['Name'].str.contains('Mrs.') & X_train['Age'].isna(), avg_mrs_age)\n",
    "X_train_age = X_train_age.mask(X_train['Name'].str.contains('Mr.') & X_train['Age'].isna(), avg_mr_age)\n",
    "X_train_age = X_train_age.mask(X_train['Name'].str.contains('Dr.') & X_train['Age'].isna(), avg_dr_age)\n",
    "X_train_age = X_train_age.mask(X_train['Name'].str.contains('Master.') & X_train['Age'].isna(), avg_dr_age)\n",
    "X_train_copy['Age'] = X_train_age['Age']\n",
    "\n",
    "X_train_copy = X_train_copy.drop(['Name'], axis=1)\n",
    "\n",
    "X_train_cabin = X_train.mask((X_train['Pclass']==1) & X_train['Cabin'].isna(), 'C')\n",
    "X_train_cabin = X_train_cabin.mask((X_train_cabin['Pclass']==3) & X_train_cabin['Cabin'].isna(), 'G')\n",
    "X_train_cabin = X_train_cabin.mask((X_train_cabin['Pclass']==2) & X_train_cabin['Cabin'].isna(), 'F')\n",
    "X_train_cabin = X_train_cabin.mask(X_train_cabin['Cabin'].str.contains('T'), 'A')\n",
    "cabin = [x[0] for x in X_train_cabin['Cabin']]\n",
    "X_train_copy['Cabin'] = cabin\n",
    "\n",
    "for index in np.array(X_train_copy.index):\n",
    "    X_train_copy['Ticket'][index] = re.sub('[\\d]','', X_train_copy['Ticket'][index]).replace('.', '').replace(' ', '')\n",
    "    X_train_copy['Ticket'][index] = re.sub('Paris', 'PARIS', X_train_copy['Ticket'][index])\n",
    "    X_train_copy['Ticket'][index] = re.sub('SOTON/O', 'STON/O', X_train_copy['Ticket'][index])\n",
    "    X_train_copy['Ticket'][index] = re.sub('STON/OQ', 'STON/O', X_train_copy['Ticket'][index])\n",
    "    X_train_copy['Ticket'][index] = re.sub('CA/SOTON', 'STON/O', X_train_copy['Ticket'][index])\n",
    "    most_common = ['PC', 'CA', 'STON/O', 'A/', 'SC/PARIS']\n",
    "    if sum([X_train_copy['Ticket'][index] == tic for tic in most_common]) != 1:\n",
    "        X_train_copy['Ticket'][index] = ''\n",
    "\n",
    "X_train_copy = pd.get_dummies(X_train_copy).fillna(0)\n",
    "\n",
    "# New\n",
    "X_groups = X_train.copy()\n",
    "X_groups['Group Size'] = X_groups['SibSp'] + X_groups['Parch'] + 1\n",
    "X_groups['Solo Traveler'] = (X_groups['Group Size'] == 1)*1\n",
    "tics = pd.DataFrame(X_groups[X_groups['Solo Traveler'] == 1].groupby('Ticket').size())\n",
    "identical_tics = tics[tics.iloc[:,0] > 1].index\n",
    "tic_counts = tics[tics.iloc[:,0] > 1].values\n",
    "X_groups2 = X_groups.copy()\n",
    "i = 0\n",
    "for tic in identical_tics:\n",
    "    X_groups2 = X_groups2.mask((X_groups['Ticket'] == tic), tic_counts[i].item())\n",
    "    i += 1\n",
    "X_train_copy['Group Size'] = X_groups2['Group Size']\n",
    "X_train_copy['Solo Traveler'] = (X_train_copy['Group Size'] == 1)*1\n",
    "\n",
    "X_train_copy = X_train_copy.drop('Solo Traveler', axis=1)\n",
    "\n",
    "# Moved normalization\n",
    "X_norm = X_train_copy\n",
    "X_train_copy['Fare'] = X_norm['Fare'] / X_norm['Fare'].max()\n",
    "X_train_copy['Age'] = X_norm['Age'] / X_norm['Age'].max()\n",
    "X_train_copy['PassengerId'] = X_norm['PassengerId'] / X_norm['PassengerId'].max()\n",
    "X_train_copy['Pclass'] = X_norm['Pclass'] / X_norm['Pclass'].max()\n",
    "X_train_copy['SibSp'] = X_norm['SibSp'] / X_norm['SibSp'].max()\n",
    "X_train_copy['Parch'] = X_norm['Parch'] / X_norm['Parch'].max()\n",
    "X_train_copy['Group Size'] = X_norm['Group Size'] / X_norm['Group Size'].max()\n",
    "\n",
    "X_train_copy = X_train_copy.fillna(0)\n",
    "\n",
    "clf = MLPClassifier(hidden_layer_sizes=(20,20,20), max_iter=600, solver='lbfgs', \n",
    "                    verbose=1, random_state=42, activation='relu')\n",
    "                                                                \n",
    "clf.fit(X_train_copy, Y_train)\n",
    "\n",
    "print('Accuracy on training---')\n",
    "y_pred_train = clf.predict(X_train_copy)\n",
    "print(accuracy_score(Y_train, y_pred_train))"
   ]
  },
  {
   "cell_type": "code",
   "execution_count": null,
   "metadata": {},
   "outputs": [],
   "source": [
    "X_test_copy = X_test.copy()\n",
    "X_test_copy['Sex'] = X_test_copy['Sex'].replace('male', 0).replace('female', 1)\n",
    "X_test_copy['Embarked'] = X_test_copy['Embarked'].fillna('S')\n",
    "\n",
    "avg_miss_age = round(np.mean(X_test_copy[X_test_copy['Name'].str.contains('Miss.')]['Age']), 2)\n",
    "avg_ms_age = round(np.mean(X_test_copy[X_test_copy['Name'].str.contains('Ms.')]['Age']), 2)\n",
    "avg_mrs_age = round(np.mean(X_test_copy[X_test_copy['Name'].str.contains('Mrs.')]['Age']), 2)\n",
    "avg_mr_age = round(np.mean(X_test_copy[X_test_copy['Name'].str.contains('Mr.')]['Age']), 2)\n",
    "avg_dr_age = round(np.mean(X_test_copy[X_test_copy['Name'].str.contains('Dr.')]['Age']), 2)\n",
    "avg_master_age = round(np.mean(X_test_copy[X_test_copy['Name'].str.contains('Master.')]['Age']), 2)\n",
    "\n",
    "X_test_age = X_test.mask(X_test['Name'].str.contains('Miss.') & X_test['Age'].isna(), avg_miss_age)\n",
    "X_test_age = X_test_age.mask(X_test['Name'].str.contains('Ms.') & X_test['Age'].isna(), avg_ms_age)\n",
    "X_test_age = X_test_age.mask(X_test['Name'].str.contains('Mrs.') & X_test['Age'].isna(), avg_mrs_age)\n",
    "X_test_age = X_test_age.mask(X_test['Name'].str.contains('Mr.') & X_test['Age'].isna(), avg_mr_age)\n",
    "X_test_age = X_test_age.mask(X_test['Name'].str.contains('Dr.') & X_test['Age'].isna(), avg_dr_age)\n",
    "X_test_age = X_test_age.mask(X_test['Name'].str.contains('Master.') & X_test['Age'].isna(), avg_dr_age)\n",
    "X_test_copy['Age'] = X_test_age['Age']\n",
    "\n",
    "X_test_copy = X_test_copy.drop(['Name'], axis=1)\n",
    "\n",
    "X_test_cabin = X_test.mask((X_test['Pclass']==1) & X_test['Cabin'].isna(), 'C')\n",
    "X_test_cabin = X_test_cabin.mask((X_test_cabin['Pclass']==3) & X_test_cabin['Cabin'].isna(), 'G')\n",
    "X_test_cabin = X_test_cabin.mask((X_test_cabin['Pclass']==2) & X_test_cabin['Cabin'].isna(), 'F')\n",
    "X_test_cabin = X_test_cabin.mask(X_test_cabin['Cabin'].str.contains('T'), 'A')\n",
    "cabin = [x[0] for x in X_test_cabin['Cabin']]\n",
    "X_test_copy['Cabin'] = cabin\n",
    "\n",
    "for index in np.array(X_test_copy.index):\n",
    "    X_test_copy['Ticket'][index] = re.sub('[\\d]','', X_test_copy['Ticket'][index]).replace('.', '').replace(' ', '')\n",
    "    X_test_copy['Ticket'][index] = re.sub('Paris', 'PARIS', X_test_copy['Ticket'][index])\n",
    "    X_test_copy['Ticket'][index] = re.sub('SOTON/O', 'STON/O', X_test_copy['Ticket'][index])\n",
    "    X_test_copy['Ticket'][index] = re.sub('STON/OQ', 'STON/O', X_test_copy['Ticket'][index])\n",
    "    X_test_copy['Ticket'][index] = re.sub('CA/SOTON', 'STON/O', X_test_copy['Ticket'][index])\n",
    "    most_common = ['PC', 'CA', 'STON/O', 'A/', 'SC/PARIS']\n",
    "    if sum([X_test_copy['Ticket'][index] == tic for tic in most_common]) != 1:\n",
    "        X_test_copy['Ticket'][index] = ''\n",
    "\n",
    "X_test_copy = pd.get_dummies(X_test_copy).fillna(0)\n",
    "\n",
    "# New\n",
    "X_groups = X_test.copy()\n",
    "X_groups['Group Size'] = X_groups['SibSp'] + X_groups['Parch'] + 1\n",
    "X_groups['Solo Traveler'] = (X_groups['Group Size'] == 1)*1\n",
    "tics = pd.DataFrame(X_groups[X_groups['Solo Traveler'] == 1].groupby('Ticket').size())\n",
    "identical_tics = tics[tics.iloc[:,0] > 1].index\n",
    "tic_counts = tics[tics.iloc[:,0] > 1].values\n",
    "X_groups2 = X_groups.copy()\n",
    "i = 0\n",
    "for tic in identical_tics:\n",
    "    X_groups2 = X_groups2.mask((X_groups['Ticket'] == tic), tic_counts[i].item())\n",
    "    i += 1\n",
    "X_test_copy['Group Size'] = X_groups2['Group Size']\n",
    "X_test_copy['Solo Traveler'] = (X_test_copy['Group Size'] == 1)*1\n",
    "\n",
    "X_test_copy = X_test_copy.drop('Solo Traveler', axis=1)\n",
    "\n",
    "# Moved normalization\n",
    "X_norm = X_test_copy\n",
    "X_test_copy['Fare'] = X_norm['Fare'] / X_norm['Fare'].max()\n",
    "X_test_copy['Age'] = X_norm['Age'] / X_norm['Age'].max()\n",
    "X_test_copy['PassengerId'] = X_norm['PassengerId'] / X_norm['PassengerId'].max()\n",
    "X_test_copy['Pclass'] = X_norm['Pclass'] / X_norm['Pclass'].max()\n",
    "X_test_copy['SibSp'] = X_norm['SibSp'] / X_norm['SibSp'].max()\n",
    "X_test_copy['Parch'] = X_norm['Parch'] / X_norm['Parch'].max()\n",
    "X_test_copy['Group Size'] = X_norm['Group Size'] / X_norm['Group Size'].max()\n",
    "\n",
    "X_test_copy = X_test_copy.fillna(0)\n",
    "\n",
    "print('Accuracy on testing---')\n",
    "y_pred_test = clf.predict(X_test_copy)\n",
    "print(accuracy_score(Y_test, y_pred_test))"
   ]
  },
  {
   "cell_type": "code",
   "execution_count": null,
   "metadata": {},
   "outputs": [],
   "source": [
    "df_test_copy = df_test.copy()\n",
    "df_test_copy['Sex'] = df_test_copy['Sex'].replace('male', 0).replace('female', 1)\n",
    "df_test_copy['Embarked'] = df_test_copy['Embarked'].fillna('S')\n",
    "\n",
    "avg_miss_age = round(np.mean(df_test_copy[df_test_copy['Name'].str.contains('Miss.')]['Age']), 2)\n",
    "avg_ms_age = round(np.mean(df_test_copy[df_test_copy['Name'].str.contains('Ms.')]['Age']), 2)\n",
    "avg_mrs_age = round(np.mean(df_test_copy[df_test_copy['Name'].str.contains('Mrs.')]['Age']), 2)\n",
    "avg_mr_age = round(np.mean(df_test_copy[df_test_copy['Name'].str.contains('Mr.')]['Age']), 2)\n",
    "avg_dr_age = round(np.mean(df_test_copy[df_test_copy['Name'].str.contains('Dr.')]['Age']), 2)\n",
    "avg_master_age = round(np.mean(df_test_copy[df_test_copy['Name'].str.contains('Master.')]['Age']), 2)\n",
    "\n",
    "df_test_age = df_test.mask(df_test['Name'].str.contains('Miss.') & df_test['Age'].isna(), avg_miss_age)\n",
    "df_test_age = df_test_age.mask(df_test['Name'].str.contains('Ms.') & df_test['Age'].isna(), avg_ms_age)\n",
    "df_test_age = df_test_age.mask(df_test['Name'].str.contains('Mrs.') & df_test['Age'].isna(), avg_mrs_age)\n",
    "df_test_age = df_test_age.mask(df_test['Name'].str.contains('Mr.') & df_test['Age'].isna(), avg_mr_age)\n",
    "df_test_age = df_test_age.mask(df_test['Name'].str.contains('Dr.') & df_test['Age'].isna(), avg_dr_age)\n",
    "df_test_age = df_test_age.mask(df_test['Name'].str.contains('Master.') & df_test['Age'].isna(), avg_dr_age)\n",
    "df_test_copy['Age'] = df_test_age['Age']\n",
    "\n",
    "df_test_copy = df_test_copy.drop(['Name'], axis=1)\n",
    "\n",
    "df_test_cabin = df_test.mask((df_test['Pclass']==1) & df_test['Cabin'].isna(), 'C')\n",
    "df_test_cabin = df_test_cabin.mask((df_test_cabin['Pclass']==3) & df_test_cabin['Cabin'].isna(), 'G')\n",
    "df_test_cabin = df_test_cabin.mask((df_test_cabin['Pclass']==2) & df_test_cabin['Cabin'].isna(), 'F')\n",
    "df_test_cabin = df_test_cabin.mask(df_test_cabin['Cabin'].str.contains('T'), 'A')\n",
    "cabin = [x[0] for x in df_test_cabin['Cabin']]\n",
    "df_test_copy['Cabin'] = cabin\n",
    "\n",
    "for index in np.array(df_test_copy.index):\n",
    "    df_test_copy['Ticket'][index] = re.sub('[\\d]','', df_test_copy['Ticket'][index]).replace('.', '').replace(' ', '')\n",
    "    df_test_copy['Ticket'][index] = re.sub('Paris', 'PARIS', df_test_copy['Ticket'][index])\n",
    "    df_test_copy['Ticket'][index] = re.sub('SOTON/O', 'STON/O', df_test_copy['Ticket'][index])\n",
    "    df_test_copy['Ticket'][index] = re.sub('STON/OQ', 'STON/O', df_test_copy['Ticket'][index])\n",
    "    df_test_copy['Ticket'][index] = re.sub('CA/SOTON', 'STON/O', df_test_copy['Ticket'][index])\n",
    "    most_common = ['PC', 'CA', 'STON/O', 'A/', 'SC/PARIS']\n",
    "    if sum([df_test_copy['Ticket'][index] == tic for tic in most_common]) != 1:\n",
    "        df_test_copy['Ticket'][index] = ''\n",
    "\n",
    "df_test_copy = pd.get_dummies(df_test_copy).fillna(0)   \n",
    "\n",
    "# New\n",
    "X_groups = df_test.copy()\n",
    "X_groups['Group Size'] = X_groups['SibSp'] + X_groups['Parch'] + 1\n",
    "X_groups['Solo Traveler'] = (X_groups['Group Size'] == 1)*1\n",
    "tics = pd.DataFrame(X_groups[X_groups['Solo Traveler'] == 1].groupby('Ticket').size())\n",
    "identical_tics = tics[tics.iloc[:,0] > 1].index\n",
    "tic_counts = tics[tics.iloc[:,0] > 1].values\n",
    "X_groups2 = X_groups.copy()\n",
    "i = 0\n",
    "for tic in identical_tics:\n",
    "    X_groups2 = X_groups2.mask((X_groups['Ticket'] == tic), tic_counts[i].item())\n",
    "    i += 1\n",
    "df_test_copy['Group Size'] = X_groups2['Group Size']\n",
    "df_test_copy['Solo Traveler'] = (df_test_copy['Group Size'] == 1)*1\n",
    "\n",
    "df_test_copy = df_test_copy.drop('Solo Traveler', axis=1)\n",
    "\n",
    "# Moved normalization\n",
    "df_norm = df_test_copy\n",
    "df_test_copy['Fare'] = X_norm['Fare'] / X_norm['Fare'].max()\n",
    "df_test_copy['Age'] = X_norm['Age'] / X_norm['Age'].max()\n",
    "df_test_copy['PassengerId'] = X_norm['PassengerId'] / X_norm['PassengerId'].max()\n",
    "df_test_copy['Pclass'] = X_norm['Pclass'] / X_norm['Pclass'].max()\n",
    "df_test_copy['SibSp'] = X_norm['SibSp'] / X_norm['SibSp'].max()\n",
    "df_test_copy['Parch'] = X_norm['Parch'] / X_norm['Parch'].max()\n",
    "df_test_copy['Group Size'] = X_norm['Group Size'] / X_norm['Group Size'].max()\n",
    "\n",
    "df_test_copy = pd.get_dummies(df_test_copy).fillna(0)"
   ]
  },
  {
   "cell_type": "code",
   "execution_count": null,
   "metadata": {},
   "outputs": [],
   "source": [
    "test_predictions = clf.predict(df_test_copy)\n",
    "test_predictions"
   ]
  },
  {
   "cell_type": "code",
   "execution_count": null,
   "metadata": {},
   "outputs": [],
   "source": [
    "submission = pd.DataFrame(index=df_test.PassengerId)\n",
    "submission['Survived'] = clf.predict(df_test_copy)\n",
    "submission['Survived'].value_counts()"
   ]
  },
  {
   "cell_type": "code",
   "execution_count": null,
   "metadata": {},
   "outputs": [],
   "source": [
    "# submission.reset_index().to_csv('submission_9.csv', index=False)"
   ]
  }
 ],
 "metadata": {
  "kernelspec": {
   "display_name": "Python 3",
   "language": "python",
   "name": "python3"
  },
  "language_info": {
   "codemirror_mode": {
    "name": "ipython",
    "version": 3
   },
   "file_extension": ".py",
   "mimetype": "text/x-python",
   "name": "python",
   "nbconvert_exporter": "python",
   "pygments_lexer": "ipython3",
   "version": "3.6.10"
  }
 },
 "nbformat": 4,
 "nbformat_minor": 4
}
